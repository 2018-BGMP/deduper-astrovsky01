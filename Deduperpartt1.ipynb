{
 "cells": [
  {
   "cell_type": "markdown",
   "metadata": {},
   "source": [
    "# Why dedup?\n",
    "\n",
    "Smaller file size allows for easier assembly. PCR duplication is for ease of analysis for the sequencing, but once the library is created, one doesn't need more than the one string for assembly. We therefore remove duplicates from the final files."
   ]
  },
  {
   "cell_type": "markdown",
   "metadata": {},
   "source": [
    "# Pseudocode disclaimer\n",
    "\n",
    "My code will be made up of higher-level functions assembled into a loop, therefore pseudocode will just be an order of functions to be called, see functions below:"
   ]
  },
  {
   "cell_type": "markdown",
   "metadata": {},
   "source": [
    "dictionary = {}\n",
    "\n",
    "dupicatecount = 0\n",
    "\n",
    "open(SAMoutfile.sam, \"w\") as sam\n",
    "\n",
    "with open(SAM file, \"r\") as S:\n",
    "\n",
    "    readline next 4 lines, strip\n",
    "    \n",
    "    separate(informatoin)\n",
    "    \n",
    "    if dictionary_build(relevant info) == F:\n",
    "    \n",
    "        if position_compare == True:\n",
    "        \n",
    "            if bitscore_compare(relevant info) == T:\n",
    "            \n",
    "                if soft_clipping(relevant info) == T:\n",
    "                \n",
    "                    duplicatecount += 1\n",
    "                    \n",
    "    else ------->\n",
    "    \n",
    "        sam.out(readline data from earlier)"
   ]
  },
  {
   "cell_type": "markdown",
   "metadata": {},
   "source": [
    "# Higher level functions"
   ]
  },
  {
   "cell_type": "code",
   "execution_count": 10,
   "metadata": {},
   "outputs": [],
   "source": [
    "def separate(SAM_header, SAM_info):\n",
    "    \"\"\"Separates sam header and info line into constituent parts, returning relevant strings/numbers\"\"\"\n",
    "    sam_header.strip.split(\":\")\n",
    "    sam_info.strip.split(\"\\t\")\n",
    "    return(sequence_position, bitscore, CIGAR_string, UMI, etc)\n",
    "\n",
    "# Example separate(ASDF:ASDF, ASDF    ASDF), returns sam_header = [ASDF, ASDF], sam_info = [ASDF, ASDF]\n",
    "    \n",
    "def dictionary_build(UMI, chromsome, sequence_start, bitscore, cigar_string, etc):\n",
    "    \"\"\"Builds reference dictionary for previously unseen sequences\"\"\"\n",
    "    if UMI not in d:\n",
    "        adj_sequence_start_location = sequence_start - cigar_string #soft clipping numbers\n",
    "        d[UMI]:[adj_sequence_start. bitscore, chromosome]\n",
    "        return(False)\n",
    "    else:\n",
    "        return(True)\n",
    "\n",
    "#Example dictionary_build(CCGGAATT, 1234, 4321, 12, 4, 20, 2S12M) returns CCGGAATT:[1234, 4321, 12, 4, 20, 2S12M]\n",
    "    \n",
    "def position_compare(UMI, chromosome, adj_pos_start):\n",
    "    \"\"\"Compares start positions to a reference dictionary\"\"\"\n",
    "    if UMI in d.keys() and adj_pos_start == d[UMI][n] :\n",
    "        return(True)\n",
    "    else:\n",
    "        return(False)\n",
    "\n",
    "#Example: position_compare(CCGGAATT, 12,  1234, 4321) returns True\n",
    "    \n",
    "def bitscore_compare(bitscore, UMI):\n",
    "    \"\"\"Compares bitscores for strandedness\"\"\"\n",
    "    if ((bitscore & 16) == 16 and (d[UMI][bitscore] & 16) == 16) or ((bitscore & 16) != 16 and (d[UMI][bitscore] & 16) != 16)\n",
    "        return(True)\n",
    "    else:\n",
    "        return(False)\n",
    "#Example bitcore_compare(20), returns True\n",
    "    \n",
    "# Example cigar_string(2S12M) returns True"
   ]
  },
  {
   "cell_type": "markdown",
   "metadata": {},
   "source": [
    "# Test File"
   ]
  },
  {
   "cell_type": "markdown",
   "metadata": {},
   "source": [
    "* First sequence\n",
    "\n",
    "NS500451:154:HWKTMBGXX:1:11101:1969:1093:GAAGACCA^GTGATGTC\t83\t8\t91509300\t36\t71M\t=\t91509078\t-293\tCACCAAGCACAAGCACACCATACTTGAAGGTCAAATGCTTAACCCTTCTGCATGGTTACAATGAAAATGGC\tAEEAEEEEEEEEEEEEEEEEEEEEAEEAEEEEEEEEEEEEEEEEEEEEEEEEEEEEEEEEEEEEEEEEA6\n",
    "\n",
    "\n",
    "* Soft-clipped duplicate\n",
    "NS500451:154:HWKTMBGXX:1:11099:1969:1093:GAAGACCA^GTGATGTC\t83\t8\t91509300\t36\t2S69M\t=\t91509078\t-293\tCACCAAGCACAAGCACACCATACTTGAAGGTCAAATGCTTAACCCTTCTGCATGGTTACAATGAAAATGGC\tAEEAEEEEEEEEEEEEEEEEEEEEAEEAEEEEEEEEEEEEEEEEEEEEEEEEEEEEEEEEEEEEEEEEA6\n",
    "\n",
    "* Different Sequence, different UMI\n",
    "\n",
    "NS500451:154:HWKTMBGXX:1:2222:2283:1093:GAAGACCA^GATTACAA\t83\t8\t91509300\t36\t71M\t=\t91509078\t-293\tCACCAAGCACAAGCACACCATACTTGAAGGTCAAATGCTTAACCCTTCTGCATGGTTACAATGAAAATGGC\tAEEAEEEEEEEEEEEEEEEEEEEEAEEAEEEEEEEEEEEEEEEEEEEEEEEEEEEEEEEEEEEEEEEEA6\n",
    "\n",
    "* Second sequence, reverse strand\n",
    "\n",
    "NS500451:180:HWKTMBGXX:1:2259:2330:1093:GAAGACCA^GATTACAA\t83\t8\t91509300\t36\t71M\t=\t91509078\t-293\tCACCAAGCACAAGCACACCATACTTGAAGGTCAAATGCTTAACCCTTCTGCATGGTTACAATGAAAATGGC\tAEEAEEEEEEEEEEEEEEEEEEEEAEEAEEEEEEEEEEEEEEEEEEEEEEEEEEEEEEEEEEEEEEEEA6\n",
    "\n"
   ]
  },
  {
   "cell_type": "markdown",
   "metadata": {},
   "source": [
    "# Expected Output from Test File"
   ]
  },
  {
   "cell_type": "markdown",
   "metadata": {},
   "source": [
    "NS500451:154:HWKTMBGXX:1:11101:1969:1093:GAAGACCA^GTGATGTC\t83\t8\t91509300\t36\t71M\t=\t91509078\t-293\tCACCAAGCACAAGCACACCATACTTGAAGGTCAAATGCTTAACCCTTCTGCATGGTTACAATGAAAATGGC\tAEEAEEEEEEEEEEEEEEEEEEEEAEEAEEEEEEEEEEEEEEEEEEEEEEEEEEEEEEEEEEEEEEEEA6\n",
    "                            \n",
    "NS500451:154:HWKTMBGXX:1:2222:2283:1093:GAAGACCA^GATTACAA\t83\t8\t91509300\t36\t71M\t=\t91509078\t-293\tCACCAAGCACAAGCACACCATACTTGAAGGTCAAATGCTTAACCCTTCTGCATGGTTACAATGAAAATGGC\tAEEAEEEEEEEEEEEEEEEEEEEEAEEAEEEEEEEEEEEEEEEEEEEEEEEEEEEEEEEEEEEEEEEEA6"
   ]
  },
  {
   "cell_type": "code",
   "execution_count": null,
   "metadata": {},
   "outputs": [],
   "source": []
  }
 ],
 "metadata": {
  "kernelspec": {
   "display_name": "Python 3",
   "language": "python",
   "name": "python3"
  },
  "language_info": {
   "codemirror_mode": {
    "name": "ipython",
    "version": 3
   },
   "file_extension": ".py",
   "mimetype": "text/x-python",
   "name": "python",
   "nbconvert_exporter": "python",
   "pygments_lexer": "ipython3",
   "version": "3.6.5"
  }
 },
 "nbformat": 4,
 "nbformat_minor": 2
}
